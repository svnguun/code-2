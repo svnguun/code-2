{
 "cells": [
  {
   "cell_type": "code",
   "execution_count": null,
   "metadata": {},
   "outputs": [],
   "source": [
    "# PDB 파일 경로\n",
    "pdb_file_path = '/mnt/data/4QNQ.pdb'\n",
    "\n",
    "# 파일을 읽어와서 내용 확인\n",
    "with open(pdb_file_path, 'r') as file:\n",
    "    content_lines = file.readlines()\n",
    "\n",
    "# \"1XJ\"가 포함된 HETATM 라인 필터링 (리간드의 원자 정보 검색)\n",
    "ligand_atoms_lines = [line for line in content_lines if 'HETATM' in line and '1XJ' in line]\n",
    "\n",
    "# 추출한 리간드 원자 정보를 새로운 PDB 파일에 저장\n",
    "ligand_output_path = '/mnt/data/ligand_1XJ.pdb'\n",
    "\n",
    "with open(ligand_output_path, 'w') as ligand_file:\n",
    "    ligand_file.writelines(ligand_atoms_lines)\n",
    "\n",
    "ligand_output_path  # 새로 생성된 파일 경로"
   ]
  }
 ],
 "metadata": {
  "language_info": {
   "name": "python"
  }
 },
 "nbformat": 4,
 "nbformat_minor": 2
}
